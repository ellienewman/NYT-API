{
 "cells": [
  {
   "cell_type": "code",
   "execution_count": 3,
   "metadata": {},
   "outputs": [],
   "source": [
    "#NYT API docs: https://developer.nytimes.com/apis\n",
    "import requests\n",
    "import json\n",
    "import pandas as pd\n",
    "import time\n",
    "from sklearn.feature_extraction.text import CountVectorizer\n",
    "from textblob import TextBlob"
   ]
  },
  {
   "cell_type": "code",
   "execution_count": 17,
   "metadata": {},
   "outputs": [],
   "source": [
    "#all articles from one month (Jan 2019)\n",
    "r = requests.get('https://api.nytimes.com/svc/archive/v1/2019/1.json?api-key=hUqxCPIjU7aBGGXMK1pfw7wK5LKtgLjS')"
   ]
  },
  {
   "cell_type": "code",
   "execution_count": 32,
   "metadata": {},
   "outputs": [],
   "source": [
    "#all articles containing \"climate change\" from 2020\n",
    "climate = requests.get('https://api.nytimes.com/svc/search/v2/articlesearch.json?q=climate+change&begin_date=20200101&end_date=20201231&api-key=hUqxCPIjU7aBGGXMK1pfw7wK5LKtgLjS')"
   ]
  },
  {
   "cell_type": "code",
   "execution_count": 60,
   "metadata": {},
   "outputs": [
    {
     "data": {
      "text/plain": [
       "4482"
      ]
     },
     "execution_count": 60,
     "metadata": {},
     "output_type": "execute_result"
    }
   ],
   "source": [
    "#one article\n",
    "r.json()['response']['docs'][2]\n",
    "#number of articles returned \n",
    "len(r.json()['response']['docs'])"
   ]
  },
  {
   "cell_type": "code",
   "execution_count": 19,
   "metadata": {},
   "outputs": [
    {
     "ename": "KeyError",
     "evalue": "'ma'",
     "output_type": "error",
     "traceback": [
      "\u001b[0;31m---------------------------------------------------------------------------\u001b[0m",
      "\u001b[0;31mKeyError\u001b[0m                                  Traceback (most recent call last)",
      "\u001b[0;32m<ipython-input-19-959ecd48873b>\u001b[0m in \u001b[0;36m<module>\u001b[0;34m()\u001b[0m\n\u001b[1;32m      1\u001b[0m \u001b[0;31m#article title\u001b[0m\u001b[0;34m\u001b[0m\u001b[0;34m\u001b[0m\u001b[0m\n\u001b[0;32m----> 2\u001b[0;31m \u001b[0mtest\u001b[0m \u001b[0;34m=\u001b[0m \u001b[0mr\u001b[0m\u001b[0;34m.\u001b[0m\u001b[0mjson\u001b[0m\u001b[0;34m(\u001b[0m\u001b[0;34m)\u001b[0m\u001b[0;34m[\u001b[0m\u001b[0;34m'response'\u001b[0m\u001b[0;34m]\u001b[0m\u001b[0;34m[\u001b[0m\u001b[0;34m'docs'\u001b[0m\u001b[0;34m]\u001b[0m\u001b[0;34m[\u001b[0m\u001b[0;36m1\u001b[0m\u001b[0;34m]\u001b[0m\u001b[0;34m[\u001b[0m\u001b[0;34m'headline'\u001b[0m\u001b[0;34m]\u001b[0m\u001b[0;34m[\u001b[0m\u001b[0;34m'ma'\u001b[0m\u001b[0;34m]\u001b[0m\u001b[0;34m\u001b[0m\u001b[0m\n\u001b[0m",
      "\u001b[0;31mKeyError\u001b[0m: 'ma'"
     ]
    }
   ],
   "source": [
    "#article title\n",
    "r.json()['response']['docs'][1]['headline']['main']"
   ]
  },
  {
   "cell_type": "code",
   "execution_count": 17,
   "metadata": {},
   "outputs": [
    {
     "ename": "NameError",
     "evalue": "name 'climate' is not defined",
     "output_type": "error",
     "traceback": [
      "\u001b[0;31m---------------------------------------------------------------------------\u001b[0m",
      "\u001b[0;31mNameError\u001b[0m                                 Traceback (most recent call last)",
      "\u001b[0;32m<ipython-input-17-dd9a6dad9ed9>\u001b[0m in \u001b[0;36m<module>\u001b[0;34m()\u001b[0m\n\u001b[0;32m----> 1\u001b[0;31m \u001b[0mclimate_docs\u001b[0m \u001b[0;34m=\u001b[0m \u001b[0mclimate\u001b[0m\u001b[0;34m.\u001b[0m\u001b[0mjson\u001b[0m\u001b[0;34m(\u001b[0m\u001b[0;34m)\u001b[0m\u001b[0;34m[\u001b[0m\u001b[0;34m'response'\u001b[0m\u001b[0;34m]\u001b[0m\u001b[0;34m[\u001b[0m\u001b[0;34m'docs'\u001b[0m\u001b[0;34m]\u001b[0m\u001b[0;34m\u001b[0m\u001b[0m\n\u001b[0m",
      "\u001b[0;31mNameError\u001b[0m: name 'climate' is not defined"
     ]
    }
   ],
   "source": [
    "climate_docs = climate.json()['response']['docs']"
   ]
  },
  {
   "cell_type": "code",
   "execution_count": 30,
   "metadata": {},
   "outputs": [
    {
     "data": {
      "text/plain": [
       "'The very ice melt he warned would threaten the planet turned out to be his undoing.'"
      ]
     },
     "execution_count": 30,
     "metadata": {},
     "output_type": "execute_result"
    }
   ],
   "source": [
    "climate_docs[1]['lead_paragraph']"
   ]
  },
  {
   "cell_type": "code",
   "execution_count": 62,
   "metadata": {},
   "outputs": [
    {
     "data": {
      "text/plain": [
       "list"
      ]
     },
     "execution_count": 62,
     "metadata": {},
     "output_type": "execute_result"
    }
   ],
   "source": [
    "len(climate_docs)\n",
    "type(climate_docs)"
   ]
  },
  {
   "cell_type": "code",
   "execution_count": 3,
   "metadata": {},
   "outputs": [],
   "source": [
    "#function to insert page number, date range in url; date format YYYYMMDD\n",
    "#also input search words & your api key\n",
    "def make_search_url(pg_num, start_date, end_date):\n",
    "    url = \"https://api.nytimes.com/svc/search/v2/articlesearch.json?q=climate+change&begin_date=\" + str(start_date) + \"&end_date=\" + str(end_date) + \"&page=\" + str(pg_num) + \"&api-key=hUqxCPIjU7aBGGXMK1pfw7wK5LKtgLjS\"\n",
    "    return url"
   ]
  },
  {
   "cell_type": "code",
   "execution_count": 6,
   "metadata": {},
   "outputs": [
    {
     "name": "stdout",
     "output_type": "stream",
     "text": [
      "0\n",
      "https://api.nytimes.com/svc/search/v2/articlesearch.json?q=climate+change&begin_date=20200101&end_date=20200530&page=0&api-key=hUqxCPIjU7aBGGXMK1pfw7wK5LKtgLjS\n",
      "10\n"
     ]
    },
    {
     "ename": "KeyboardInterrupt",
     "evalue": "",
     "output_type": "error",
     "traceback": [
      "\u001b[0;31m---------------------------------------------------------------------------\u001b[0m",
      "\u001b[0;31mKeyboardInterrupt\u001b[0m                         Traceback (most recent call last)",
      "\u001b[0;32m<ipython-input-6-72d20fbad5aa>\u001b[0m in \u001b[0;36m<module>\u001b[0;34m()\u001b[0m\n\u001b[1;32m     11\u001b[0m     \u001b[0;32mif\u001b[0m \u001b[0;34m(\u001b[0m\u001b[0mlen\u001b[0m\u001b[0;34m(\u001b[0m\u001b[0mall_docs\u001b[0m\u001b[0;34m)\u001b[0m \u001b[0;34m<\u001b[0m \u001b[0;36m10\u001b[0m\u001b[0;34m)\u001b[0m\u001b[0;34m:\u001b[0m\u001b[0;34m\u001b[0m\u001b[0m\n\u001b[1;32m     12\u001b[0m         \u001b[0;32mbreak\u001b[0m\u001b[0;34m\u001b[0m\u001b[0m\n\u001b[0;32m---> 13\u001b[0;31m     \u001b[0mtime\u001b[0m\u001b[0;34m.\u001b[0m\u001b[0msleep\u001b[0m\u001b[0;34m(\u001b[0m\u001b[0;36m7\u001b[0m\u001b[0;34m)\u001b[0m \u001b[0;31m#pause 7 seconds\u001b[0m\u001b[0;34m\u001b[0m\u001b[0m\n\u001b[0m",
      "\u001b[0;31mKeyboardInterrupt\u001b[0m: "
     ]
    }
   ],
   "source": [
    "#Note: this will take a while to run \n",
    "climate_docs = []\n",
    "for i in range(0,10):\n",
    "    url = make_search_url(i,20200101,20200530)\n",
    "    req = requests.get(url)\n",
    "    all_docs = req.json()['response']['docs']\n",
    "    climate_docs = climate_docs + all_docs\n",
    "    print(i)\n",
    "    print(url)\n",
    "    print(len(climate_docs))\n",
    "    if (len(all_docs) < 10):\n",
    "        break \n",
    "    time.sleep(7) #pause 7 seconds"
   ]
  },
  {
   "cell_type": "code",
   "execution_count": 25,
   "metadata": {},
   "outputs": [],
   "source": [
    "#initialize empty lists that will be columns of data frame\n",
    "title = []\n",
    "date = []\n",
    "news_desk = []\n",
    "abstract = []\n",
    "url = []"
   ]
  },
  {
   "cell_type": "code",
   "execution_count": 26,
   "metadata": {},
   "outputs": [],
   "source": [
    "#iterate through docs and extract data\n",
    "for doc in climate_docs:\n",
    "    title.append(doc['headline']['main'])\n",
    "    date.append(doc['pub_date'])\n",
    "    news_desk.append(doc['news_desk'])\n",
    "    abstract.append(doc['abstract'])\n",
    "    url.append(doc['web_url'])"
   ]
  },
  {
   "cell_type": "code",
   "execution_count": 12,
   "metadata": {},
   "outputs": [],
   "source": [
    "#make dictionary & convert to pandas dataframe & save as csv\n",
    "df = {'title': title,\n",
    "     'date': date,\n",
    "     'news_desk': news_desk,\n",
    "     'abstract': abstract,\n",
    "     'url' : url}\n",
    "df = pd.DataFrame(df) \n",
    "df.to_csv('NYT_climate.csv')"
   ]
  },
  {
   "cell_type": "code",
   "execution_count": 13,
   "metadata": {},
   "outputs": [],
   "source": [
    "#import csv as pandas dataframe\n",
    "articles = pd.read_csv('NYT_climate.csv')"
   ]
  },
  {
   "cell_type": "code",
   "execution_count": 19,
   "metadata": {},
   "outputs": [
    {
     "data": {
      "text/plain": [
       "'https://www.nytimes.com/2020/05/18/climate/climate-changes-hurricane-intensity.html'"
      ]
     },
     "execution_count": 19,
     "metadata": {},
     "output_type": "execute_result"
    }
   ],
   "source": [
    "def make_comments_url(article_url):\n",
    "    url = \"https://api.nytimes.com/svc/community/v3/user-content/url.json?api-key=hUqxCPIjU7aBGGXMK1pfw7wK5LKtgLjS&offset=0&url=\" + article_url\n",
    "    return url"
   ]
  },
  {
   "cell_type": "code",
   "execution_count": 15,
   "metadata": {},
   "outputs": [],
   "source": [
    "#all comments from one article\n",
    "c = requests.get(\"https://api.nytimes.com/svc/community/v3/user-content/url.json?api-key=hUqxCPIjU7aBGGXMK1pfw7wK5LKtgLjS&offset=0&url=https%3A%2F%2Fwww.nytimes.com%2F2019%2F06%2F21%2Fscience%2Fgiant-squid-cephalopod-video.html\")"
   ]
  },
  {
   "cell_type": "code",
   "execution_count": 35,
   "metadata": {},
   "outputs": [],
   "source": [
    "c = requests.get(\"https://api.nytimes.com/svc/community/v3/user-content/url.json?api-key=hUqxCPIjU7aBGGXMK1pfw7wK5LKtgLjS&offset=0&url=https%3A%2F%2Fwww.nytimes.com/2020/05/27/opinion/michigan-edenville-dam.html\")"
   ]
  },
  {
   "cell_type": "code",
   "execution_count": 27,
   "metadata": {},
   "outputs": [
    {
     "data": {
      "text/plain": [
       "['https://www.nytimes.com/2020/05/27/climate/nyt-climate-newsletter-pop-songs.html',\n",
       " 'https://www.nytimes.com/2020/05/18/climate/climate-changes-hurricane-intensity.html',\n",
       " 'https://www.nytimes.com/2020/05/29/climate/coronavirus-economic-stimulus-climate.html',\n",
       " 'https://www.nytimes.com/2020/05/21/climate/dam-failure-michigan-climate-change.html',\n",
       " 'https://www.nytimes.com/2020/05/07/climate/coronavirus-republicans-climate-change.html',\n",
       " 'https://www.nytimes.com/2020/05/26/climate/cop26-climate-talks.html',\n",
       " 'https://www.nytimes.com/interactive/2020/05/21/climate/songs-about-climate-change.html',\n",
       " 'https://www.nytimes.com/2020/05/23/climate/climate-change-coronavirus.html',\n",
       " 'https://www.nytimes.com/2020/05/19/climate/coronavirus-climate-change-survey.html',\n",
       " 'https://www.nytimes.com/2020/05/27/opinion/michigan-edenville-dam.html']"
      ]
     },
     "execution_count": 27,
     "metadata": {},
     "output_type": "execute_result"
    }
   ],
   "source": [
    "url"
   ]
  },
  {
   "cell_type": "code",
   "execution_count": 36,
   "metadata": {},
   "outputs": [
    {
     "data": {
      "text/plain": [
       "{'debug': {'version': 4, 'nyt-com-shim': True},\n",
       " 'status': 'OK',\n",
       " 'copyright': 'Copyright (c) 2021 The New York Times Company.  All Rights Reserved.',\n",
       " 'results': {'callerID': None,\n",
       "  'api_timestamp': '1609620526',\n",
       "  'comments': [],\n",
       "  'depthLimit': 2,\n",
       "  'filter': '',\n",
       "  'page': 0,\n",
       "  'replyLimit': 3,\n",
       "  'sort': '',\n",
       "  'totalCommentsFound': 0,\n",
       "  'totalCommentsReturned': 0,\n",
       "  'totalEditorsSelectionFound': 0,\n",
       "  'totalEditorsSelectionReturned': 0,\n",
       "  'totalParentCommentsFound': 0,\n",
       "  'totalParentCommentsReturned': 0,\n",
       "  'totalRecommendationsFound': 0,\n",
       "  'totalRecommendationsReturned': 0,\n",
       "  'totalReplyCommentsFound': 0,\n",
       "  'totalReplyCommentsReturned': 0,\n",
       "  'totalReporterReplyCommentsFound': 0,\n",
       "  'totalReporterReplyCommentsReturned': 0,\n",
       "  'userData': {'userID': 0,\n",
       "   'login': None,\n",
       "   'email': '',\n",
       "   'displayName': '',\n",
       "   'url': '',\n",
       "   'title': '',\n",
       "   'location': '',\n",
       "   'times_people': 0,\n",
       "   'sharing': 0,\n",
       "   'labels': []}},\n",
       " 'errorDetails': 'Comments are not enabled on this article'}"
      ]
     },
     "execution_count": 36,
     "metadata": {},
     "output_type": "execute_result"
    }
   ],
   "source": [
    "c.json()"
   ]
  },
  {
   "cell_type": "code",
   "execution_count": null,
   "metadata": {},
   "outputs": [],
   "source": []
  }
 ],
 "metadata": {
  "kernelspec": {
   "display_name": "Python 3",
   "language": "python",
   "name": "python3"
  },
  "language_info": {
   "codemirror_mode": {
    "name": "ipython",
    "version": 3
   },
   "file_extension": ".py",
   "mimetype": "text/x-python",
   "name": "python",
   "nbconvert_exporter": "python",
   "pygments_lexer": "ipython3",
   "version": "3.6.5"
  }
 },
 "nbformat": 4,
 "nbformat_minor": 2
}
