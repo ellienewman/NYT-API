{
 "cells": [
  {
   "cell_type": "code",
   "execution_count": 2,
   "metadata": {},
   "outputs": [],
   "source": [
    "#NYT API docs: https://developer.nytimes.com/apis\n",
    "#sklearn docs: https://scikit-learn.org/stable/\n",
    "import requests\n",
    "import json\n",
    "import pandas as pd\n",
    "import time \n",
    "from sklearn.feature_extraction.text import TfidfVectorizer\n",
    "from textblob import TextBlob\n",
    "\n",
    "#API code resources: https://medium.com/@chris.m.pease/starting-to-use-the-nytimes-api-and-diving-into-data-with-pandas-7e2df3787892\n",
    "# and https://towardsdatascience.com/collecting-data-from-the-new-york-times-over-any-period-of-time-3e365504004\n",
    "\n",
    "#sklearn code resources: https://medium.com/@cmukesh8688/tf-idf-vectorizer-scikit-learn-dbc0244a911a"
   ]
  },
  {
   "cell_type": "code",
   "execution_count": null,
   "metadata": {},
   "outputs": [],
   "source": [
    "API_KEY = \"INSERT YOUR API KEY HERE AS STRING\""
   ]
  },
  {
   "cell_type": "code",
   "execution_count": 17,
   "metadata": {},
   "outputs": [],
   "source": [
    "#all articles from one month (Jan 2019)\n",
    "month_url = 'https://api.nytimes.com/svc/archive/v1/2019/1.json?api-key=' + API_KEY\n",
    "r = requests.get(month_url)"
   ]
  },
  {
   "cell_type": "code",
   "execution_count": 32,
   "metadata": {},
   "outputs": [],
   "source": [
    "#all articles containing \"climate change\" from 2020\n",
    "search_url = 'https://api.nytimes.com/svc/search/v2/articlesearch.json?q=climate+change&begin_date=20200101&end_date=20201231&api-key=' + API_KEY\n",
    "climate = requests.get(search_url)"
   ]
  },
  {
   "cell_type": "code",
   "execution_count": null,
   "metadata": {},
   "outputs": [],
   "source": [
    "#all comments from one article\n",
    "#Note: comments not available for all articles\n",
    "comments_url = \"https://api.nytimes.com/svc/community/v3/user-content/url.json?api-key=\" + API_KEY + \"&offset=0&url=https%3A%2F%2Fwww.nytimes.com%2F2019%2F06%2F21%2Fscience%2Fgiant-squid-cephalopod-video.html\"\n",
    "c = requests.get(comments_url)"
   ]
  },
  {
   "cell_type": "code",
   "execution_count": null,
   "metadata": {},
   "outputs": [],
   "source": [
    "#one article\n",
    "r.json()['response']['docs'][2]\n",
    "#number of articles returned \n",
    "len(r.json()['response']['docs'])"
   ]
  },
  {
   "cell_type": "code",
   "execution_count": null,
   "metadata": {},
   "outputs": [],
   "source": [
    "#article title\n",
    "r.json()['response']['docs'][1]['headline']['main']"
   ]
  },
  {
   "cell_type": "code",
   "execution_count": 3,
   "metadata": {},
   "outputs": [],
   "source": [
    "#function to insert page number, date range in url; date format YYYYMMDD\n",
    "#also input search words & your api key\n",
    "def make_search_url(pg_num, start_date, end_date, api_key):\n",
    "    url = \"https://api.nytimes.com/svc/search/v2/articlesearch.json?q=climate+change&begin_date=\" + str(start_date) + \"&end_date=\" + str(end_date) + \"&page=\" + str(pg_num) + \"&api-key=\" + str(api_key)\n",
    "    return url\n",
    "\n",
    "def make_comments_url(article_url, api_key):\n",
    "    url = \"https://api.nytimes.com/svc/community/v3/user-content/url.json?api-key=\" + str(api_key) + \"&offset=0&url=\" + article_url\n",
    "    return url"
   ]
  },
  {
   "cell_type": "code",
   "execution_count": null,
   "metadata": {},
   "outputs": [],
   "source": [
    "#Note: this will take a while to run \n",
    "#input api key\n",
    "climate_docs = []\n",
    "for i in range(0,10):\n",
    "    url = make_search_url(i,20200101,20200530, API_KEY)\n",
    "    req = requests.get(url)\n",
    "    all_docs = req.json()['response']['docs']\n",
    "    climate_docs = climate_docs + all_docs\n",
    "    print(i)\n",
    "    print(url)\n",
    "    print(len(climate_docs))\n",
    "    if (len(all_docs) < 10):\n",
    "        break \n",
    "    time.sleep(7) #pause 7 seconds"
   ]
  },
  {
   "cell_type": "code",
   "execution_count": 25,
   "metadata": {},
   "outputs": [],
   "source": [
    "#initialize empty lists that will be columns of data frame\n",
    "title = []\n",
    "date = []\n",
    "news_desk = []\n",
    "abstract = []\n",
    "url = []"
   ]
  },
  {
   "cell_type": "code",
   "execution_count": 26,
   "metadata": {},
   "outputs": [],
   "source": [
    "#iterate through docs and extract data\n",
    "for doc in climate_docs:\n",
    "    title.append(doc['headline']['main'])\n",
    "    date.append(doc['pub_date'])\n",
    "    news_desk.append(doc['news_desk'])\n",
    "    abstract.append(doc['abstract'])\n",
    "    url.append(doc['web_url'])"
   ]
  },
  {
   "cell_type": "code",
   "execution_count": 12,
   "metadata": {},
   "outputs": [],
   "source": [
    "#make dictionary & convert to pandas dataframe & save as csv\n",
    "df = {'title': title,\n",
    "     'date': date,\n",
    "     'news_desk': news_desk,\n",
    "     'abstract': abstract,\n",
    "     'url' : url}\n",
    "df = pd.DataFrame(df) \n",
    "df.to_csv('NYT_climate.csv')"
   ]
  },
  {
   "cell_type": "code",
   "execution_count": 3,
   "metadata": {},
   "outputs": [],
   "source": [
    "#import csv as pandas dataframe\n",
    "articles = pd.read_csv('NYT_climate.csv')\n",
    "articles['date'] = pd.to_datetime(articles['date'])"
   ]
  },
  {
   "cell_type": "code",
   "execution_count": 5,
   "metadata": {},
   "outputs": [],
   "source": [
    "#convert abstracts to tfidf data frame\n",
    "tfidf = TfidfVectorizer(stop_words = 'english') #remove stopwords\n",
    "mod = tfidf.fit_transform(articles['abstract']) #calculate tfidf scores\n",
    "toks = tfidf.get_feature_names() #doc tokens"
   ]
  },
  {
   "cell_type": "code",
   "execution_count": 6,
   "metadata": {},
   "outputs": [],
   "source": [
    "tok_tfidf = pd.DataFrame(data = mod.toarray(), index = articles['title'], columns = toks)"
   ]
  },
  {
   "cell_type": "code",
   "execution_count": null,
   "metadata": {},
   "outputs": [],
   "source": [
    "tok_tfidf.iloc[0,5]"
   ]
  },
  {
   "cell_type": "code",
   "execution_count": 42,
   "metadata": {},
   "outputs": [],
   "source": [
    "max_tfidf = tok_tfidf.max(axis=1) #max tfidf value\n",
    "max_toks = tok_tfidf.idxmax(axis=1) #words associated with max values\n",
    "val_df = pd.DataFrame(max_tfidf)\n",
    "tok_df = pd.DataFrame(max_toks)"
   ]
  },
  {
   "cell_type": "code",
   "execution_count": 45,
   "metadata": {},
   "outputs": [],
   "source": [
    "tok_df['tfidf'] = val_df\n",
    "tok_df.columns = {'tokens', 'tfidf'}"
   ]
  },
  {
   "cell_type": "code",
   "execution_count": null,
   "metadata": {},
   "outputs": [],
   "source": [
    "tok_df"
   ]
  },
  {
   "cell_type": "code",
   "execution_count": null,
   "metadata": {},
   "outputs": [],
   "source": [
    "tok_tfidf"
   ]
  },
  {
   "cell_type": "code",
   "execution_count": 6,
   "metadata": {},
   "outputs": [],
   "source": [
    "#try out sentiment analysis using TextBlob\n",
    "#it uses a pre-trained Naive Bayes Classifier\n",
    "sentiment = []\n",
    "subjectivity = []\n",
    "def get_sentiment(doc):\n",
    "    blob = TextBlob(doc)\n",
    "    sentiment.append(blob.sentiment.polarity)\n",
    "    subjectivity.append(blob.sentiment.subjectivity)\n",
    "articles.abstract.apply(get_sentiment)\n",
    "articles['sentiment'] = sentiment\n",
    "articles['subjectivity'] = subjectivity\n",
    "    "
   ]
  },
  {
   "cell_type": "code",
   "execution_count": 18,
   "metadata": {},
   "outputs": [
    {
     "data": {
      "text/plain": [
       "<matplotlib.axes._subplots.AxesSubplot at 0x1a167a2208>"
      ]
     },
     "execution_count": 18,
     "metadata": {},
     "output_type": "execute_result"
    },
    {
     "data": {
      "image/png": "[encoded data removed]",
      "text/plain": [
       "<Figure size 432x288 with 1 Axes>"
      ]
     },
     "metadata": {},
     "output_type": "display_data"
    }
   ],
   "source": [
    "%matplotlib inline\n",
    "articles.plot(x=\"date\",y=\"sentiment\")"
   ]
  },
  {
   "cell_type": "code",
   "execution_count": 14,
   "metadata": {},
   "outputs": [],
   "source": []
  },
  {
   "cell_type": "code",
   "execution_count": null,
   "metadata": {},
   "outputs": [],
   "source": []
  },
  {
   "cell_type": "code",
   "execution_count": null,
   "metadata": {},
   "outputs": [],
   "source": []
  },
  {
   "cell_type": "code",
   "execution_count": null,
   "metadata": {},
   "outputs": [],
   "source": []
  }
 ],
 "metadata": {
  "kernelspec": {
   "display_name": "Python 3",
   "language": "python",
   "name": "python3"
  },
  "language_info": {
   "codemirror_mode": {
    "name": "ipython",
    "version": 3
   },
   "file_extension": ".py",
   "mimetype": "text/x-python",
   "name": "python",
   "nbconvert_exporter": "python",
   "pygments_lexer": "ipython3",
   "version": "3.6.5"
  }
 },
 "nbformat": 4,
 "nbformat_minor": 2
}
